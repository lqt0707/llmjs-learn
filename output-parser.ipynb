{
 "cells": [
  {
   "cell_type": "code",
   "execution_count": null,
   "id": "4c1b174e",
   "metadata": {},
   "outputs": [],
   "source": [
    "import { load } from \"dotenv\";\n",
    "const env = await load();\n",
    "\n",
    "const process = {\n",
    "  env,\n",
    "};\n"
   ]
  },
  {
   "cell_type": "code",
   "execution_count": null,
   "id": "2541d582",
   "metadata": {},
   "outputs": [],
   "source": [
    "import { ChatMoonshot } from \"@langchain/community/chat_models/moonshot\";\n",
    "import { HumanMessage } from \"@langchain/core/messages\";\n",
    "\n",
    "const chatModel = new ChatMoonshot({\n",
    "  apiKey: process.env.OPENAI_API_KEY,\n",
    "});\n",
    "\n",
    "await chatModel.invoke([new HumanMessage(\"Tell me a joke\")]);"
   ]
  },
  {
   "cell_type": "code",
   "execution_count": null,
   "id": "8dc5f8be",
   "metadata": {},
   "outputs": [],
   "source": [
    "import { ChatMoonshot } from \"@langchain/community/chat_models/moonshot\";\n",
    "import { HumanMessage } from \"@langchain/core/messages\";\n",
    "import { StringOutputParser } from \"@langchain/core/output_parsers\";\n",
    "\n",
    "const chatModel = new ChatMoonshot({\n",
    "  apiKey: process.env.OPENAI_API_KEY,\n",
    "});\n",
    "\n",
    "const parser = new StringOutputParser();\n",
    "\n",
    "const chian = chatModel.pipe(parser);\n",
    "\n",
    "await chian.invoke([new HumanMessage(\"Tell me a joke\")]);\n"
   ]
  },
  {
   "cell_type": "code",
   "execution_count": null,
   "id": "6c4db5c8",
   "metadata": {},
   "outputs": [],
   "source": [
    "import { StructuredOutputParser} from '@langchain/core/output_parsers'\n",
    "\n",
    "const parser = StructuredOutputParser.fromNamesAndDescriptions({\n",
    "    answer:'用户问题的答案',\n",
    "    evidence:'你回答用户问题所依据的答案',\n",
    "    confidence:'问题答案的可信度评分，格式是百分数'\n",
    "})\n",
    "\n",
    "console.log(parser.getFormatInstructions());\n"
   ]
  },
  {
   "cell_type": "code",
   "execution_count": null,
   "id": "492af9b9",
   "metadata": {},
   "outputs": [],
   "source": [
    "import { PromptTemplate } from \"@langchain/core/prompts\";\n",
    "import { StructuredOutputParser } from \"@langchain/core/output_parsers\";\n",
    "import { ChatMoonshot } from \"@langchain/community/chat_models/moonshot\";\n",
    "\n",
    "const chatModel = new ChatMoonshot({\n",
    "  apiKey: process.env.OPENAI_API_KEY,\n",
    "});\n",
    "\n",
    "const parser = StructuredOutputParser.fromNamesAndDescriptions({\n",
    "  answer: \"用户问题的答案\",\n",
    "  evidence: \"你回答用户问题所依据的答案\",\n",
    "  confidence: \"问题答案的可信度评分，格式是百分数\",\n",
    "});\n",
    "\n",
    "const prompt = PromptTemplate.fromTemplate('尽可能的回答用的问题\\n{instructions}\\n{question}')\n",
    "\n",
    "const chain = prompt.pipe(chatModel).pipe(parser);\n",
    "\n",
    "const res = await chain.invoke({\n",
    "    question:'蒙娜丽莎的作者是谁？是什么时候绘制的',\n",
    "    instructions:parser.getFormatInstructions()\n",
    "})\n",
    "\n",
    "console.log(res);\n"
   ]
  },
  {
   "cell_type": "code",
   "execution_count": null,
   "id": "d63616bd",
   "metadata": {},
   "outputs": [],
   "source": [
    "import { CommaSeparatedListOutputParser } from \"@langchain/core/output_parsers\";\n",
    "\n",
    "const parser = new CommaSeparatedListOutputParser();\n",
    "\n",
    "console.log(parser.getFormatInstructions());\n"
   ]
  },
  {
   "cell_type": "code",
   "execution_count": null,
   "id": "a4d94e3a",
   "metadata": {},
   "outputs": [],
   "source": [
    "import { PromptTemplate } from \"@langchain/core/prompts\";\n",
    "import { ChatMoonshot } from \"@langchain/community/chat_models/moonshot\";\n",
    "\n",
    "const chatModel = new ChatMoonshot({\n",
    "  apiKey: process.env.OPENAI_API_KEY,\n",
    "});\n",
    "\n",
    "const parser = new CommaSeparatedListOutputParser();\n",
    "\n",
    "const prompt = PromptTemplate.fromTemplate(\n",
    "  \"列出3个{country}著名的互联网公司。\\n{instructions}\"\n",
    ");\n",
    "\n",
    "const chain = prompt.pipe(chatModel).pipe(parser);\n",
    "\n",
    "const res = await chain.invoke({\n",
    "  country: \"America\",\n",
    "  instructions: parser.getFormatInstructions(),\n",
    "});\n",
    "\n",
    "console.log(res);\n"
   ]
  },
  {
   "cell_type": "code",
   "execution_count": null,
   "id": "fd64bbd5",
   "metadata": {},
   "outputs": [],
   "source": [
    "import { z } from \"zod\";\n",
    "import {\n",
    "  StructuredOutputParser,\n",
    "  OutputFixingParser,\n",
    "} from \"langchain/output_parsers\";\n",
    "import { PromptTemplate } from \"@langchain/core/prompts\";\n",
    "import { ChatOpenAI } from \"@langchain/openai\";\n",
    "import { HumanMessage } from \"@langchain/core/messages\";\n",
    "\n",
    "const schema = z.object({\n",
    "  answer: z.string().describe(\"用户问题的答案\"),\n",
    "  confidence: z\n",
    "    .number()\n",
    "    .min(0)\n",
    "    .max(100)\n",
    "    .describe(\"问题答案的可信度评分，满分 100\"),\n",
    "});\n"
   ]
  },
  {
   "cell_type": "code",
   "execution_count": null,
   "id": "b8ca18c7",
   "metadata": {},
   "outputs": [],
   "source": [
    "const parser = StructuredOutputParser.fromZodSchema(schema);\n",
    "const prompt = PromptTemplate.fromTemplate(\n",
    "  \"尽可能的回答用的问题 \\n{instructions} \\n{question}\"\n",
    ");\n",
    "const model = new ChatOpenAI({\n",
    "  configuration: {\n",
    "    baseURL: \"https://api.moonshot.cn/v1\",\n",
    "    apiKey: process.env.OPENAI_API_KEY,\n",
    "  },\n",
    "  modelName: \"kimi-k2-0711-preview\",\n",
    "});\n",
    "const chain = prompt.pipe(model).pipe(parser);\n",
    "const res = await chain.invoke({\n",
    "  question: \"蒙娜丽莎的作者是谁？是什么时候绘制的\",\n",
    "  instructions: parser.getFormatInstructions(),\n",
    "});\n",
    "\n",
    "console.log(res);\n"
   ]
  },
  {
   "cell_type": "code",
   "execution_count": null,
   "id": "5bcacfae",
   "metadata": {},
   "outputs": [],
   "source": [
    "const wrongOutput = {\n",
    "  answer:\n",
    "    \"蒙娜丽莎的作者是达芬奇，大约在16世纪初期（1503年至1506年之间）开始绘制。\",\n",
    "  sources: \"90%\",\n",
    "};\n",
    "\n",
    "const fixParser = OutputFixingParser.fromLLM(model, parser);\n",
    "const output = await fixParser.parse(JSON.stringify(wrongOutput));\n"
   ]
  },
  {
   "cell_type": "code",
   "execution_count": null,
   "id": "208589b6",
   "metadata": {},
   "outputs": [],
   "source": [
    "const wrongOutput = {\n",
    "  answer:\n",
    "    \"蒙娜丽莎的作者是达芬奇，大约在16世纪初期（1503年至1506年之间）开始绘制。\",\n",
    "  sources: \"-1\",\n",
    "};\n",
    "\n",
    "const fixParser = OutputFixingParser.fromLLM(model, parser);\n",
    "const output = await fixParser.parse(JSON.stringify(wrongOutput));\n",
    "\n",
    "output;\n"
   ]
  }
 ],
 "metadata": {
  "kernelspec": {
   "display_name": "Deno",
   "language": "typescript",
   "name": "deno"
  },
  "language_info": {
   "codemirror_mode": "typescript",
   "file_extension": ".ts",
   "mimetype": "text/x.typescript",
   "name": "typescript",
   "nbconvert_exporter": "script",
   "pygments_lexer": "typescript",
   "version": "5.8.3"
  }
 },
 "nbformat": 4,
 "nbformat_minor": 5
}
