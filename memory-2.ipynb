{
 "cells": [
  {
   "cell_type": "code",
   "execution_count": null,
   "id": "1ea68c3a",
   "metadata": {},
   "outputs": [],
   "source": [
    "import { ChatOpenAI } from \"@langchain/openai\";\n",
    "import { BufferMemory } from \"langchain/memory\";\n",
    "import { ConversationChain } from \"langchain/chains\";\n",
    "\n",
    "const chatModel = new ChatOpenAI({\n",
    "  configuration: {\n",
    "    baseURL: \"https://api.moonshot.cn/v1\",\n",
    "    apiKey: process.env.OPENAI_API_KEY,\n",
    "  },\n",
    "  modelName: \"kimi-k2-0711-preview\",\n",
    "});\n",
    "\n",
    "const memory = new BufferMemory();\n",
    "const chain = new ConversationChain({ llm: chatModel, memory,verbose:true });\n",
    "const res1 = await chain.invoke({ input: \"我是小明\" });\n"
   ]
  },
  {
   "cell_type": "code",
   "execution_count": null,
   "id": "d345836d",
   "metadata": {},
   "outputs": [],
   "source": [
    "res1"
   ]
  },
  {
   "cell_type": "code",
   "execution_count": null,
   "id": "c3bf7786",
   "metadata": {},
   "outputs": [],
   "source": [
    "const res2 = await chain.invoke({ input: \"我叫什么？\" });\n"
   ]
  },
  {
   "cell_type": "code",
   "execution_count": null,
   "id": "db2f6dc5",
   "metadata": {},
   "outputs": [],
   "source": [
    "res2"
   ]
  },
  {
   "cell_type": "code",
   "execution_count": null,
   "id": "a532fc41",
   "metadata": {},
   "outputs": [],
   "source": [
    "import { ChatOpenAI } from \"@langchain/openai\";\n",
    "import { BufferWindowMemory } from \"langchain/memory\";\n",
    "\n",
    "const chatModel = new ChatOpenAI({\n",
    "  configuration: {\n",
    "    baseURL: \"https://api.moonshot.cn/v1\",\n",
    "    apiKey: process.env.OPENAI_API_KEY,\n",
    "  },\n",
    "  modelName: \"kimi-k2-0711-preview\",\n",
    "});\n",
    "\n",
    "const memory = new BufferWindowMemory({ k: 1 });\n",
    "const chain = new ConversationChain({ llm: chatModel, memory, verbose: true });\n"
   ]
  },
  {
   "cell_type": "code",
   "execution_count": null,
   "id": "442e6cd9",
   "metadata": {},
   "outputs": [],
   "source": [
    "import { ChatOpenAI } from \"@langchain/openai\";\n",
    "import { ConversationSummaryMemory } from \"langchain/memory\";\n",
    "import { PromptTemplate } from \"@langchain/core/prompts\";\n",
    "import { ConversationChain } from \"langchain/chains\";\n",
    "\n",
    "\n",
    "\n",
    "const model = new ChatOpenAI({\n",
    "  configuration: {\n",
    "    baseURL: \"https://api.moonshot.cn/v1\",\n",
    "    apiKey: process.env.OPENAI_API_KEY,\n",
    "  },\n",
    "  modelName: \"kimi-k2-0711-preview\",\n",
    "});\n",
    "\n",
    "const memory = new ConversationSummaryMemory({\n",
    "  memoryKey: \"summary\",\n",
    "  llm: model,\n",
    "});\n",
    "\n",
    "const prompt = PromptTemplate.fromTemplate(`\n",
    "    你是一个乐于助人的助手。尽你所能回答所有问题。\n",
    "    \n",
    "    这是聊天记录的摘要:\n",
    "    {summary}\n",
    "    Human: {input}\n",
    "    AI:`);\n",
    "\n",
    "const chain = new ConversationChain({\n",
    "  llm: model,\n",
    "  prompt,\n",
    "  memory,\n",
    "  verbose: true,\n",
    "});\n",
    "\n",
    "const res1 = await chain.invoke({ input: \"我是小明\" });\n",
    "const res2 = await chain.invoke({ input: \"我叫什么？\" });\n"
   ]
  },
  {
   "cell_type": "code",
   "execution_count": null,
   "id": "ca7077b4",
   "metadata": {},
   "outputs": [],
   "source": [
    "res1\n",
    "res2"
   ]
  },
  {
   "cell_type": "code",
   "execution_count": null,
   "id": "3e170f42",
   "metadata": {},
   "outputs": [],
   "source": [
    "import { ChatOpenAI } from \"@langchain/openai\";\n",
    "import { ConversationChain } from \"langchain/chains\";\n",
    "\n",
    "const model = new ChatOpenAI({\n",
    "  configuration: {\n",
    "    baseURL: \"https://api.moonshot.cn/v1\",\n",
    "    apiKey: process.env.OPENAI_API_KEY,\n",
    "  },\n",
    "  modelName: \"kimi-k2-0711-preview\",\n",
    "});\n",
    "\n",
    "const memory = new ConversationSummaryBufferMemory({\n",
    "  llm: model,\n",
    "  maxTokenLimit: 200,\n",
    "});\n",
    "\n",
    "const chain = new ConversationChain({ llm: model, memory, verbose: true });\n"
   ]
  },
  {
   "cell_type": "code",
   "execution_count": null,
   "id": "69b3eec5",
   "metadata": {},
   "outputs": [],
   "source": [
    "// main.ts\n",
    "import { ConversationChain } from \"langchain/chains\";\n",
    "import { ChatOpenAI } from \"@langchain/openai\";\n",
    "import { ConversationSummaryMemory } from \"langchain/memory\";\n",
    "import { BufferWindowMemory } from \"langchain/memory\";\n",
    "import { PromptTemplate } from \"@langchain/core/prompts\";\n",
    "\n",
    "/* ---------- LLM ---------- */\n",
    "const llm = new ChatOpenAI({\n",
    "  configuration: {\n",
    "    baseURL: \"https://api.moonshot.cn/v1\",\n",
    "    apiKey: process.env.OPENAI_API_KEY,\n",
    "  },\n",
    "  modelName: \"kimi-k2-0711-preview\",\n",
    "});\n",
    "\n",
    "/* ---------- 记忆 ---------- */\n",
    "// 1) 最近 3 轮原始对话\n",
    "const recentMemory = new BufferWindowMemory({\n",
    "  k: 3, // 保留最近 3 组（人+AI）\n",
    "  memoryKey: \"recent_history\",\n",
    "  inputKey: \"input\",\n",
    "});\n",
    "\n",
    "// 2) 持续更新的整个对话摘要\n",
    "const summaryMemory = new ConversationSummaryMemory({\n",
    "  llm, // 用于生成摘要\n",
    "  memoryKey: \"summary\",\n",
    "  inputKey: \"input\",\n",
    "});\n",
    "\n",
    "/* ---------- Prompt ---------- */\n",
    "const prompt = PromptTemplate.fromTemplate(\n",
    "  `Summary of entire conversation:\n",
    "{summary}\n",
    "\n",
    "Recent messages (last 3 turns):\n",
    "{recent_history}\n",
    "\n",
    "Human: {input}\n",
    "AI:`\n",
    ");\n",
    "\n",
    "/* ---------- 链 ---------- */\n",
    "const chain = new ConversationChain({\n",
    "  llm,\n",
    "  prompt,\n",
    "  memory: {\n",
    "    // 多记忆合并\n",
    "    loadMemoryVariables: async (inputs) => {\n",
    "      const [summary, recent] = await Promise.all([\n",
    "        summaryMemory.loadMemoryVariables(inputs),\n",
    "        recentMemory.loadMemoryVariables(inputs),\n",
    "      ]);\n",
    "      return { ...summary, ...recent };\n",
    "    },\n",
    "    saveContext: async (inputs, outputs) => {\n",
    "      // 同时写两份记忆\n",
    "      await Promise.all([\n",
    "        summaryMemory.saveContext(inputs, outputs),\n",
    "        recentMemory.saveContext(inputs, outputs),\n",
    "      ]);\n",
    "    },\n",
    "  },\n",
    "});\n",
    "\n",
    "/* ---------- 测试 ---------- */\n",
    "await chain.call({ input: \"你好，我叫 Kai\" });\n",
    "await chain.call({ input: \"我喜欢粉色玫瑰\" });\n",
    "await chain.call({ input: \"记住，下周我姐姐生日\" });\n",
    "await chain.call({ input: \"我昨天说了什么？\" }); // 模型能结合摘要和最近三轮回答\n"
   ]
  },
  {
   "cell_type": "code",
   "execution_count": null,
   "id": "89d41e58",
   "metadata": {},
   "outputs": [],
   "source": [
    "import { ChatOpenAI } from \"@langchain/openai\";\n",
    "import {\n",
    "  EntityMemory,\n",
    "  ENTITY_MEMORY_CONVERSATION_TEMPLATE,\n",
    "} from \"langchain/memory\";\n",
    "import { ConversationChain } from \"langchain/chains\";\n",
    "\n",
    "const model = new ChatOpenAI({\n",
    "  configuration: {\n",
    "    baseURL: \"https://api.moonshot.cn/v1\",\n",
    "    apiKey: process.env.OPENAI_API_KEY,\n",
    "  },\n",
    "  modelName: \"kimi-k2-0711-preview\",\n",
    "  verbose: true,\n",
    "});\n",
    "\n",
    "const memory = new EntityMemory({\n",
    "  llm: new ChatOpenAI({\n",
    "    configuration: {\n",
    "      baseURL: \"https://api.moonshot.cn/v1\",\n",
    "      apiKey: process.env.OPENAI_API_KEY,\n",
    "    },\n",
    "    modelName: \"kimi-k2-0711-preview\",\n",
    "    verbose: true,\n",
    "    verbose: true,\n",
    "  }),\n",
    "  chatHistoryKey: \"history\",\n",
    "  entitiesKey: \"entities\",\n",
    "});\n",
    "const chain = new ConversationChain({\n",
    "  llm: model,\n",
    "  prompt: ENTITY_MEMORY_CONVERSATION_TEMPLATE,\n",
    "  memory: memory,\n",
    "  verbose: true,\n",
    "});\n"
   ]
  },
  {
   "cell_type": "code",
   "execution_count": null,
   "id": "4c31caf0",
   "metadata": {},
   "outputs": [],
   "source": [
    "const res1 = await chain.call({ input: \"我叫小明，今年 18 岁\" });\n"
   ]
  },
  {
   "cell_type": "code",
   "execution_count": null,
   "id": "c5395e5d",
   "metadata": {},
   "outputs": [],
   "source": [
    "const res2 = await chain.call({\n",
    "  input: \"ABC 是一家互联网公司，主要是售卖方便面的公司\",\n",
    "});\n"
   ]
  },
  {
   "cell_type": "code",
   "execution_count": null,
   "id": "ae5521bc",
   "metadata": {},
   "outputs": [],
   "source": [
    "const res3 = await chain.call({ input: \"介绍小明\" });\n"
   ]
  },
  {
   "cell_type": "code",
   "execution_count": null,
   "id": "80ab6c7f",
   "metadata": {},
   "outputs": [],
   "source": [
    "const res3 = await chain.call({ input: \"介绍小明和 ABC\" });\n"
   ]
  },
  {
   "cell_type": "code",
   "execution_count": null,
   "id": "e31cbd05",
   "metadata": {},
   "outputs": [],
   "source": [
    "const test1 = await memory.loadMemoryVariables({\n",
    "  input: \"介绍小明和 ABC\",\n",
    "});"
   ]
  }
 ],
 "metadata": {
  "kernelspec": {
   "display_name": "Deno",
   "language": "typescript",
   "name": "deno"
  },
  "language_info": {
   "codemirror_mode": "typescript",
   "file_extension": ".ts",
   "mimetype": "text/x.typescript",
   "name": "typescript",
   "nbconvert_exporter": "script",
   "pygments_lexer": "typescript",
   "version": "5.8.3"
  }
 },
 "nbformat": 4,
 "nbformat_minor": 5
}
