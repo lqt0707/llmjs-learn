{
 "cells": [
  {
   "cell_type": "code",
   "execution_count": null,
   "id": "d071e5b9",
   "metadata": {},
   "outputs": [],
   "source": [
    "import { Document } from \"langchain/document\";\n",
    "\n",
    "const test = new Document({\n",
    "  pageContent: \"test text\",\n",
    "  metadata: { source: \"ABC Title\" },\n",
    "});\n",
    "\n",
    "console.log(test);\n"
   ]
  },
  {
   "cell_type": "code",
   "execution_count": null,
   "id": "700f895a",
   "metadata": {},
   "outputs": [],
   "source": [
    "import { TextLoader } from \"langchain/document_loaders/fs/text\";\n",
    "\n",
    "const loader = new TextLoader(\"data/qiu.txt\");\n",
    "\n",
    "const docs = await loader.load()\n",
    "\n",
    "console.log(docs);\n"
   ]
  },
  {
   "cell_type": "code",
   "execution_count": null,
   "id": "503f63bd",
   "metadata": {},
   "outputs": [],
   "source": [
    "// import * as pdfParse from 'pdf-parse'\n",
    "import { PDFLoader } from \"langchain/document_loaders/fs/pdf\";\n",
    "\n",
    "// const loader = new PDFLoader(\"data/github-copliot.pdf\");\n",
    "const loader = new PDFLoader(\"data/github-copliot.pdf\", { spiltPages: false });\n",
    "const pdf = await loader.load();\n",
    "console.log(pdf);\n"
   ]
  },
  {
   "cell_type": "code",
   "execution_count": null,
   "id": "f8a40179",
   "metadata": {},
   "outputs": [],
   "source": [
    "import { DirectoryLoader } from \"langchain/document_loaders/fs/directory\";\n",
    "import { PDFLoader } from \"langchain/document_loaders/fs/pdf\";\n",
    "import { TextLoader } from \"langchain/document_loaders/fs/text\";\n",
    "\n",
    "const loader = new DirectoryLoader(\"./data\", {\n",
    "  \".pdf\": (path) => new PDFLoader(path, { splitPages: false }),\n",
    "  \".txt\": (path) => new TextLoader(path),\n",
    "});\n",
    "const docs = await loader.load();\n",
    "\n",
    "console.log(docs);\n"
   ]
  },
  {
   "cell_type": "code",
   "execution_count": null,
   "id": "a72e7c07",
   "metadata": {},
   "outputs": [],
   "source": [
    "import { GithubRepoLoader } from \"langchain/document_loaders/web/github\";\n",
    "import ignore from \"ignore\";\n",
    "\n",
    "const loader = new GithubRepoLoader(\n",
    "  \"https://github.com/RealKai42/qwerty-learner\",\n",
    "  {\n",
    "    branch: \"master\",\n",
    "    recursive: false,\n",
    "    unknown: \"warn\",\n",
    "    ignorePaths: [\"*.md\", \"yarn.lock\", \"*.json\"],\n",
    "    // accessToken: env[\"GITHUB_TOKEN\"],\n",
    "  }\n",
    ");\n",
    "\n",
    "const docs =await loader.load();\n",
    "\n",
    "console.log(docs);\n"
   ]
  },
  {
   "cell_type": "code",
   "execution_count": null,
   "id": "4da6e13c",
   "metadata": {},
   "outputs": [],
   "source": [
    "import \"cheerio\";\n",
    "import { CheerioWebBaseLoader } from \"langchain/document_loaders/web/cheerio\";\n",
    "\n",
    "\n",
    "const loader = new CheerioWebBaseLoader(\n",
    "  \"https://kaiyi.cool/blog/github-copilot\",\n",
    "  {\n",
    "    selector: \"h3\",\n",
    "  }\n",
    ");\n",
    "\n",
    "const docs = await loader.load();\n",
    "\n",
    "console.log(docs);\n"
   ]
  },
  {
   "cell_type": "code",
   "execution_count": 2,
   "id": "6342783f",
   "metadata": {},
   "outputs": [
    {
     "name": "stdout",
     "output_type": "stream",
     "text": [
      "{\"position\":1,\"title\":\"什么是GitHub Copilot？ - GitHub 文档\",\"link\":\"https://docs.github.com/zh/copilot/get-started/what-is-github-copilot\",\"redirect_link\":\"https://www.google.com/url?sa=t&source=web&rct=j&opi=89978449&url=https://docs.github.com/zh/copilot/get-started/what-is-github-copilot&ved=2ahUKEwio9aSWlNOOAxXxANAFHSclEb8QFnoECBYQAQ\",\"displayed_link\":\"https://docs.github.com › get-started\",\"favicon\":\"https://serpapi.com/searches/6880ed23fdfbabea76d548b9/images/82277c65fb25b02675bdb085dc6a1332ae409164795d97236ae0a852bef5c20c.png\",\"snippet\":\"GitHub Copilot is an AI coding assistant that helps you write code faster and with less effort, allowing you to focus more energy on problem solving and ...\",\"snippet_highlighted_words\":[\"an AI coding assistant\"],\"source\":\"GitHub Docs\"}\n"
     ]
    }
   ],
   "source": [
    "import { SerpAPILoader } from \"langchain/document_loaders/web/serpapi\";\n",
    "import { load } from \"dotenv\";\n",
    "const env = await load;\n",
    "\n",
    "const apiKey = env[\"SERP_KEY\"];\n",
    "const question = \"什么 github copliot\";\n",
    "const loader = new SerpAPILoader({ q: question, apiKey });\n",
    "const docs = await loader.load();\n",
    "console.log(docs[1].pageContent);\n"
   ]
  }
 ],
 "metadata": {
  "kernelspec": {
   "display_name": "Deno",
   "language": "typescript",
   "name": "deno"
  },
  "language_info": {
   "codemirror_mode": "typescript",
   "file_extension": ".ts",
   "mimetype": "text/x.typescript",
   "name": "typescript",
   "nbconvert_exporter": "script",
   "pygments_lexer": "typescript",
   "version": "5.8.3"
  }
 },
 "nbformat": 4,
 "nbformat_minor": 5
}
