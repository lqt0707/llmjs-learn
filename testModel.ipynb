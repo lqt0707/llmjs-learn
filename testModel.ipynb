{
 "cells": [
  {
   "cell_type": "code",
   "execution_count": null,
   "id": "5435c4ae",
   "metadata": {},
   "outputs": [],
   "source": [
    "import { load } from \"dotenv\";\n",
    "const env = await load();\n",
    "\n",
    "const process = {\n",
    "  env,\n",
    "};\n",
    "\n",
    "console.log(env);\n"
   ]
  },
  {
   "cell_type": "code",
   "execution_count": null,
   "id": "ed06fa73",
   "metadata": {},
   "outputs": [],
   "source": [
    "import { ChatOpenAI } from \"@langchain/openai\";\n",
    "import { HumanMessage } from \"@langchain/core/messages\";\n",
    "\n",
    "const chatModel = new ChatOpenAI({\n",
    "  configuration: {\n",
    "    baseURL: \"https://api.moonshot.cn/v1\",\n",
    "    apiKey: process.env.OPENAI_API_KEY,\n",
    "  },\n",
    "  modelName: \"kimi-k2-0711-preview\",\n",
    "});\n",
    "\n",
    "await chatModel.invoke([new HumanMessage(\"Tell me a joke\")]);\n"
   ]
  },
  {
   "cell_type": "code",
   "execution_count": null,
   "id": "f66fb934",
   "metadata": {},
   "outputs": [],
   "source": [
    "import { Ollama } from \"@langchain/community/llms/ollama\";\n",
    "\n",
    "const ollama = new Ollama({\n",
    "  baseUrl: \"http://localhost:11434\",\n",
    "  model: \"deepseek-r1\",\n",
    "});\n",
    "\n",
    "const res = await ollama.invoke(\"讲个笑话\");\n",
    "console.log(res);\n",
    "\n"
   ]
  },
  {
   "cell_type": "code",
   "execution_count": null,
   "id": "701c7f3f",
   "metadata": {},
   "outputs": [],
   "source": [
    "import { Ollama } from \"@langchain/community/llms/ollama\";\n",
    "\n",
    "const ollama = new Ollama({\n",
    "  baseUrl: \"http://localhost:11434\",\n",
    "  model: \"gemma3:1b\",\n",
    "});\n",
    "\n",
    "const res = await ollama.invoke(\"讲个笑话\");\n",
    "console.log(res);\n",
    "\n"
   ]
  }
 ],
 "metadata": {
  "kernelspec": {
   "display_name": "Deno",
   "language": "typescript",
   "name": "deno"
  },
  "language_info": {
   "codemirror_mode": "typescript",
   "file_extension": ".ts",
   "mimetype": "text/x.typescript",
   "name": "typescript",
   "nbconvert_exporter": "script",
   "pygments_lexer": "typescript",
   "version": "5.8.3"
  }
 },
 "nbformat": 4,
 "nbformat_minor": 5
}
