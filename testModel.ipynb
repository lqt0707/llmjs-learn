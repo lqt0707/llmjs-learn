{
 "cells": [
  {
   "cell_type": "code",
   "execution_count": null,
   "id": "5435c4ae",
   "metadata": {},
   "outputs": [],
   "source": [
    "import { load } from \"dotenv\";\n",
    "const env = await load();\n",
    "\n",
    "const process = {\n",
    "  env,\n",
    "};\n",
    "\n",
    "console.log(env);\n"
   ]
  },
  {
   "cell_type": "code",
   "execution_count": null,
   "id": "ed06fa73",
   "metadata": {},
   "outputs": [
    {
     "ename": "",
     "evalue": "",
     "output_type": "error",
     "traceback": [
      "\u001b[1;31m在当前单元格或上一个单元格中执行代码时 Kernel 崩溃。\n",
      "\u001b[1;31m请查看单元格中的代码，以确定故障的可能原因。\n",
      "\u001b[1;31m单击<a href='https://aka.ms/vscodeJupyterKernelCrash'>此处</a>了解详细信息。\n",
      "\u001b[1;31m有关更多详细信息，请查看 Jupyter <a href='command:jupyter.viewOutput'>log</a>。"
     ]
    }
   ],
   "source": [
    "import { ChatOpenAI } from \"@langchain/openai\";\n",
    "import { HumanMessage } from \"@langchain/core/messages\";\n",
    "\n",
    "const chatModel = new ChatOpenAI({\n",
    "  configuration: {\n",
    "    baseURL: \"https://api.moonshot.cn/v1\",\n",
    "    apiKey: process.env.OPENAI_API_KEY,\n",
    "  },\n",
    "  modelName: \"kimi-k2-0711-preview\",\n",
    "});\n",
    "\n",
    "await chatModel.invoke([new HumanMessage(\"Tell me a joke\")]);\n"
   ]
  },
  {
   "cell_type": "code",
   "execution_count": 1,
   "id": "f66fb934",
   "metadata": {},
   "outputs": [
    {
     "ename": "TypeError",
     "evalue": "[ERR_MODULE_NOT_FOUND] Cannot find module 'file:///Users/lqt/Library/Caches/deno/npm/registry.npmmirror.com/@langchain/community/0.3.48_2/llms/ollama' imported from 'file:///Users/lqt/Desktop/demo/llmjs-learn/$deno$repl.mts'",
     "output_type": "error",
     "traceback": [
      "Stack trace:",
      "TypeError: [ERR_MODULE_NOT_FOUND] Cannot find module 'file:///Users/lqt/Library/Caches/deno/npm/registry.npmmirror.com/@langchain/community/0.3.48_2/llms/ollama' imported from 'file:///Users/lqt/Desktop/demo/llmjs-learn/$deno$repl.mts'",
      "    at async <anonymous>:1:41"
     ]
    }
   ],
   "source": [
    "import { Ollama } from \"@langchain/community/llms/ollama\";\n",
    "\n",
    "const ollama = new Ollama({\n",
    "  baseUrl: \"http://localhost:11434\",\n",
    "  model: \"deepseek-r1\",\n",
    "});\n",
    "\n",
    "const res = await ollama.invoke(\"讲个笑话\");\n",
    "console.log(res);\n",
    "\n"
   ]
  },
  {
   "cell_type": "code",
   "execution_count": null,
   "id": "701c7f3f",
   "metadata": {},
   "outputs": [],
   "source": [
    "import { Ollama } from \"@langchain/community/llms/ollama\";\n",
    "\n",
    "const ollama = new Ollama({\n",
    "  baseUrl: \"http://localhost:11434\",\n",
    "  model: \"gemma3:1b\",\n",
    "});\n",
    "\n",
    "const res = await ollama.invoke(\"讲个笑话\");\n",
    "console.log(res);\n",
    "\n"
   ]
  }
 ],
 "metadata": {
  "kernelspec": {
   "display_name": "Deno",
   "language": "typescript",
   "name": "deno"
  },
  "language_info": {
   "codemirror_mode": "typescript",
   "file_extension": ".ts",
   "mimetype": "text/x.typescript",
   "name": "typescript",
   "nbconvert_exporter": "script",
   "pygments_lexer": "typescript",
   "version": "5.8.3"
  }
 },
 "nbformat": 4,
 "nbformat_minor": 5
}
