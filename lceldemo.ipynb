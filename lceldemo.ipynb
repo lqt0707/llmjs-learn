{
 "cells": [
  {
   "cell_type": "code",
   "execution_count": null,
   "id": "f521077e",
   "metadata": {},
   "outputs": [],
   "source": [
    "import { load } from \"dotenv\";\n",
    "import { ChatOpenAI } from \"@langchain/openai\";\n",
    "\n",
    "\n",
    "const env = await load();\n",
    "\n",
    "const process = {\n",
    "  env,\n",
    "};\n",
    "\n",
    "const chatModel = new ChatOpenAI({\n",
    "  configuration: {\n",
    "    baseURL: process.env.OPENAI_API_URL,\n",
    "    apiKey: process.env.OPENAI_API_KEY,\n",
    "  },\n",
    "  modelName: \"kimi-k2-0711-preview\",\n",
    "});\n"
   ]
  },
  {
   "cell_type": "code",
   "execution_count": null,
   "id": "21e2e6fc",
   "metadata": {},
   "outputs": [],
   "source": [
    "\n",
    "import { HumanMessage } from \"@langchain/core/messages\";\n",
    "\n",
    "await chatModel.invoke([new HumanMessage(\"Tell me a joke\")]);\n"
   ]
  },
  {
   "cell_type": "code",
   "execution_count": null,
   "id": "566cb5c7",
   "metadata": {},
   "outputs": [],
   "source": [
    "import { HumanMessage } from \"@langchain/core/messages\";\n",
    "import { StringOutputParser } from \"@langchain/core/output_parsers\";\n",
    "\n",
    "const outputParse = new StringOutputParser();\n",
    "const simpleChain = chatModel.pipe(outputParse);\n",
    "\n",
    "await simpleChain.invoke(\n",
    "  [new HumanMessage(\"Tell me a joke\")],\n",
    ");\n"
   ]
  },
  {
   "cell_type": "code",
   "execution_count": null,
   "id": "23dabdd9",
   "metadata": {},
   "outputs": [],
   "source": [
    "\n",
    "await simpleChain.batch([\n",
    "  [new HumanMessage(\"Tell me a joke\")],\n",
    "  [new HumanMessage(\"Hi, Who are you?\")],\n",
    "]);\n"
   ]
  },
  {
   "cell_type": "code",
   "execution_count": null,
   "id": "b7c83472",
   "metadata": {},
   "outputs": [],
   "source": [
    "const stream = await simpleChain.stream([new HumanMessage(\"Tell me a joke\")]);\n",
    "\n",
    "for await (const chunk of stream) {\n",
    "  console.log(chunk);\n",
    "}\n"
   ]
  },
  {
   "cell_type": "code",
   "execution_count": null,
   "id": "856afc66",
   "metadata": {},
   "outputs": [],
   "source": [
    "const stream = await simpleChain.streamLog([new HumanMessage(\"Tell me a joke\")]);\n",
    "\n",
    "for await (const chunk of stream) {\n",
    "  console.log(chunk);\n",
    "}\n"
   ]
  },
  {
   "cell_type": "code",
   "execution_count": null,
   "id": "c8f2659b",
   "metadata": {},
   "outputs": [],
   "source": [
    "import { ChatOpenAI } from \"@langchain/openai\";\n",
    "\n",
    "const fakeLLM = new ChatOpenAI({\n",
    "  configuration: {\n",
    "    baseURL: process.env.OPENAI_API_URL,\n",
    "    apiKey: process.env.OPENAI_API_KEY,\n",
    "  },\n",
    "  modelName: \"kimi-k2-0711-preview\",\n",
    "  maxRetries: 0,\n",
    "});\n",
    "\n",
    "await fakeLLM.invoke(\"你好\");\n",
    "\n",
    "const realLLM = new ChatOpenAI({\n",
    "  configuration: {\n",
    "    baseURL: process.env.OPENAI_API_URL,\n",
    "    apiKey: process.env.OPENAI_API_KEY,\n",
    "  },\n",
    "  modelName: \"kimi-k2-0711-preview\",\n",
    "});\n",
    "\n",
    "const llmWithFallback = fakeLLM.withFallbacks({\n",
    "  fallbacks: [realLLM],\n",
    "});\n",
    "\n",
    "await llmWithFallback.invoke(\"讲个笑话\");\n"
   ]
  },
  {
   "cell_type": "code",
   "execution_count": null,
   "id": "f16d1af0",
   "metadata": {},
   "outputs": [],
   "source": [
    "import { ChatMoonshot } from \"@langchain/community/chat_models/moonshot\";\n",
    "\n",
    "\n",
    "const fakeLLM = new ChatMoonshot({\n",
    "  apiKey: '123',\n",
    "  maxRetries: 0,\n",
    "});\n",
    "\n",
    "await fakeLLM.invoke(\"你好\");\n",
    "\n",
    "const realLLM = new ChatMoonshot({\n",
    "  apiKey: process.env.OPENAI_API_KEY,\n",
    "});\n",
    "const llmWithFallback = fakeLLM.withFallbacks({\n",
    "  fallbacks: [realLLM],\n",
    "});\n",
    "\n",
    "await llmWithFallback.invoke(\"你好\");"
   ]
  }
 ],
 "metadata": {
  "kernelspec": {
   "display_name": "Deno",
   "language": "typescript",
   "name": "deno"
  },
  "language_info": {
   "codemirror_mode": "typescript",
   "file_extension": ".ts",
   "mimetype": "text/x.typescript",
   "name": "typescript",
   "nbconvert_exporter": "script",
   "pygments_lexer": "typescript",
   "version": "5.8.3"
  }
 },
 "nbformat": 4,
 "nbformat_minor": 5
}
