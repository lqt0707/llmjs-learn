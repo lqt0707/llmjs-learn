{
 "cells": [
  {
   "cell_type": "code",
   "execution_count": null,
   "id": "a338e7f4",
   "metadata": {},
   "outputs": [],
   "source": [
    "import { OllamaEmbeddings, Ollama } from \"npm:/@langchain/ollama@0.1.5\";\n",
    "\n",
    "const model = new Ollama({\n",
    "  baseUrl: \"http://localhost:11434\",\n",
    "  model: \"deepseek-r1\",\n",
    "});\n",
    "\n",
    "const embeddings = new OllamaEmbeddings({\n",
    "  model: \"nomic-embed-text\",\n",
    "  baseUrl: \"http://localhost:11434/\",\n",
    "});"
   ]
  },
  {
   "cell_type": "code",
   "execution_count": null,
   "id": "30d6aa97",
   "metadata": {},
   "outputs": [],
   "source": [
    "import {TextLoader} from 'langchain/document_loaders/fs/text'\n",
    "// 加载数据源\n",
    "const loader = new TextLoader('data/qiu.txt')\n",
    "const docs = await loader.load()"
   ]
  },
  {
   "cell_type": "code",
   "execution_count": null,
   "id": "29b449a2",
   "metadata": {},
   "outputs": [],
   "source": [
    "import { RecursiveCharacterTextSplitter } from 'langchain/text_splitter';\n",
    "// 分割原始数据\n",
    "const splitter = new RecursiveCharacterTextSplitter({\n",
    "    chunkSize: 500,\n",
    "    chunkOverlap: 100\n",
    "})\n",
    "\n",
    "const splitDocs = await splitter.splitDocuments(docs);"
   ]
  },
  {
   "cell_type": "code",
   "execution_count": null,
   "id": "4f2d1f9d",
   "metadata": {},
   "outputs": [],
   "source": [
    "import { MemoryVectorStore} from 'langchain/vectorstores/memory';\n",
    "// 构建 vectorstore\n",
    "const vectorstore = new MemoryVectorStore(embeddings)\n",
    "await vectorstore.addDocuments(splitDocs)\n"
   ]
  },
  {
   "cell_type": "code",
   "execution_count": null,
   "id": "c29c2ec6",
   "metadata": {},
   "outputs": [],
   "source": [
    "const retriever = vectorstore.asRetriever(2)"
   ]
  },
  {
   "cell_type": "code",
   "execution_count": null,
   "id": "836257ec",
   "metadata": {},
   "outputs": [],
   "source": [
    "const res = await retriever.invoke(\n",
    "  \"原文中，谁提出了宏原子的假设？并详细介绍给我宏原子假设的理论\"\n",
    ");\n"
   ]
  },
  {
   "cell_type": "code",
   "execution_count": null,
   "id": "39f49751",
   "metadata": {},
   "outputs": [],
   "source": [
    "res"
   ]
  },
  {
   "cell_type": "code",
   "execution_count": null,
   "id": "d3bac3d8",
   "metadata": {},
   "outputs": [],
   "source": [
    "import { RunnableSequence } from \"@langchain/core/runnables\";\n",
    "import { Document } from \"@langchain/core/documents\";\n",
    "\n",
    "const converDocsToString = (documents: Document[]) => {\n",
    "  return documents.map((document) => document.pageContent).join(\"\\n\");\n",
    "};\n",
    "\n",
    "const contextRetrieverChain = RunnableSequence.from([\n",
    "  (input) => input.question,\n",
    "  retriever,\n",
    "  converDocsToString,\n",
    "]);\n"
   ]
  },
  {
   "cell_type": "code",
   "execution_count": null,
   "id": "d0f72fce",
   "metadata": {},
   "outputs": [
    {
     "ename": "",
     "evalue": "",
     "output_type": "error",
     "traceback": [
      "\u001b[1;31m在当前单元格或上一个单元格中执行代码时 Kernel 崩溃。\n",
      "\u001b[1;31m请查看单元格中的代码，以确定故障的可能原因。\n",
      "\u001b[1;31m单击<a href='https://aka.ms/vscodeJupyterKernelCrash'>此处</a>了解详细信息。\n",
      "\u001b[1;31m有关更多详细信息，请查看 Jupyter <a href='command:jupyter.viewOutput'>log</a>。"
     ]
    }
   ],
   "source": [
    "const result = await contextRetrieverChain.invoke({\n",
    "  question: \"原文中，谁提出了宏原子的假设？并详细介绍给我宏原子假设的理论\",\n",
    "});\n",
    "\n",
    "console.log(result);\n"
   ]
  },
  {
   "cell_type": "code",
   "execution_count": null,
   "id": "4f9449c7",
   "metadata": {},
   "outputs": [],
   "source": [
    "import { ChatPromptTemplate } from \"@langchain/core/prompts\";\n",
    "\n",
    "const TEMPLATE = `\n",
    "你是一个熟读刘慈欣的《球状闪电》的终极原著党，精通根据作品原文详细解释和回答问题，你在回答时会引用作品原文。\n",
    "并且回答时仅根据原文，尽可能回答用户问题，如果原文中没有相关内容，你可以回答“原文中没有相关内容”，\n",
    "\n",
    "以下是原文中跟用户回答相关的内容：\n",
    "{context}\n",
    "\n",
    "现在，你需要基于原文，回答以下问题：\n",
    "{question}`;\n",
    "\n",
    "const prompt = ChatPromptTemplate.fromTemplate(TEMPLATE);\n"
   ]
  },
  {
   "cell_type": "code",
   "execution_count": 2,
   "id": "4b0c9ae9",
   "metadata": {},
   "outputs": [
    {
     "name": "stdout",
     "output_type": "stream",
     "text": [
      "<think>\n",
      "好的，用户让我根据《球状闪电》的原文详细描述与直升机相关的场景，并且强调我是终极原著党，只引用原文。首先我需要仔细回忆书中的内容，看看有没有提到直升机的部分。\n",
      "\n",
      "记得在小说里，陈博士和同事们经常进行高空实验，尤其是用飞机携带装置到雷暴区域触发球状闪电。不过具体有没有出现直升机呢？可能没有直接描写直升机，但提到了其他飞行器。比如第二部中，他们使用了改装的无人机或者飞艇来收集数据或进行实验。\n",
      "\n",
      "需要确认原文中的描述是否涉及直升机。根据提供的文本片段，里面讨论的是数学模型和物理定律，并没有提到具体的交通工具如直升机。所以可能用户的问题是基于某个场景，但原作并未直接出现直升机相关的内容。\n",
      "\n",
      "接下来要检查是否有间接关联，比如在实验过程中使用的飞行器类型。例如，第三部中可能有其他载具的使用，但同样没有明确说是直升机。因此正确的回答应该是原文中没有提到直升机相关的场景，并按照用户指示回复“原文中没有相关内容”。\n",
      "</think>\n",
      "根据提供的文本片段和内容摘要，其中并未出现任何与**直升机（Helicopter）**相关的具体场景或描写。\n",
      "\n",
      "所有讨论都集中在：\n",
      "1.  球状闪电的数学模型构建困难性\n",
      "2.  物理学本身的复杂性和基本定律在描述球状闪电时的局限性\n",
      "3.  高空实验和雷暴环境下的研究工作\n",
      "\n",
      "没有提及任何具体的飞行器类型，包括直升机、飞机或其他。文中提到的是进行实验可能用到的高空平台或装置，但并未具体说明是哪种交通工具。\n",
      "\n",
      "因此，答案是：\n",
      "\n",
      "原文中没有相关内容\n"
     ]
    }
   ],
   "source": [
    "import { StringOutputParser } from \"@langchain/core/output_parsers\";\n",
    "import { OllamaEmbeddings, Ollama } from \"npm:/@langchain/ollama@0.1.5\";\n",
    "import { TextLoader } from \"langchain/document_loaders/fs/text\";\n",
    "import { RecursiveCharacterTextSplitter } from \"langchain/text_splitter\";\n",
    "import { MemoryVectorStore } from \"langchain/vectorstores/memory\";\n",
    "import { RunnableSequence } from \"@langchain/core/runnables\";\n",
    "import { Document } from \"@langchain/core/documents\";\n",
    "import { ChatPromptTemplate } from \"@langchain/core/prompts\";\n",
    "\n",
    "const model = new Ollama({\n",
    "  baseUrl: \"http://localhost:11434\",\n",
    "  model: \"deepseek-r1\",\n",
    "});\n",
    "\n",
    "const embeddings = new OllamaEmbeddings({\n",
    "  model: \"nomic-embed-text\",\n",
    "  baseUrl: \"http://localhost:11434/\",\n",
    "});\n",
    "\n",
    "// 1、加载原始数据\n",
    "const loader = new TextLoader(\"data/qiu.txt\");\n",
    "const docs = await loader.load();\n",
    "\n",
    "// 2、分割原始数据\n",
    "const splitter = new RecursiveCharacterTextSplitter({\n",
    "  chunkSize: 500,\n",
    "  chunkOverlap: 100,\n",
    "});\n",
    "const splitDocs = await splitter.splitDocuments(docs);\n",
    "\n",
    "// 3、构建 vectorstore\n",
    "const vectorstore = new MemoryVectorStore(embeddings);\n",
    "await vectorstore.addDocuments(splitDocs);\n",
    "\n",
    "// 4、设置 检索返回的粒度\n",
    "const retriever = vectorstore.asRetriever(2);\n",
    "\n",
    "// 转换文本数据\n",
    "const converDocsToString = (documents: Document[]) => {\n",
    "  return documents.map((document) => document.pageContent).join(\"\\n\");\n",
    "};\n",
    "\n",
    "const contextRetrieverChain = RunnableSequence.from([\n",
    "  (input) => input.question,\n",
    "  retriever,\n",
    "  converDocsToString,\n",
    "]);\n",
    "\n",
    "// 5、创建提示模版\n",
    "const TEMPLATE = `\n",
    "你是一个熟读刘慈欣的《球状闪电》的终极原著党，精通根据作品原文详细解释和回答问题，你在回答时会引用作品原文。\n",
    "并且回答时仅根据原文，尽可能回答用户问题，如果原文中没有相关内容，你可以回答“原文中没有相关内容”，\n",
    "\n",
    "以下是原文中跟用户回答相关的内容：\n",
    "{context}\n",
    "\n",
    "现在，你需要基于原文，回答以下问题：\n",
    "{question}`;\n",
    "\n",
    "const prompt = ChatPromptTemplate.fromTemplate(TEMPLATE);\n",
    "\n",
    "const ragChain = RunnableSequence.from([\n",
    "  { question: (input) => input.question, context: contextRetrieverChain },\n",
    "  prompt,\n",
    "  model,\n",
    "  new StringOutputParser(),\n",
    "]);\n",
    "\n",
    "const answer = await ragChain.invoke({\n",
    "  question: \"详细描述原文中有什么跟直升机相关的场景\",\n",
    "});\n",
    "\n",
    "console.log(answer);\n"
   ]
  }
 ],
 "metadata": {
  "kernelspec": {
   "display_name": "Deno",
   "language": "typescript",
   "name": "deno"
  },
  "language_info": {
   "codemirror_mode": "typescript",
   "file_extension": ".ts",
   "mimetype": "text/x.typescript",
   "name": "typescript",
   "nbconvert_exporter": "script",
   "pygments_lexer": "typescript",
   "version": "5.8.3"
  }
 },
 "nbformat": 4,
 "nbformat_minor": 5
}
